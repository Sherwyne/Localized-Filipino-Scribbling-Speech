{
 "cells": [
  {
   "cell_type": "code",
   "execution_count": 8,
   "metadata": {},
   "outputs": [],
   "source": [
    "import torch\n",
    "import torch.nn as nn\n",
    "import torch.optim as optim\n",
    "import torch.utils.data as datautils\n",
    "\n",
    "from tqdm import tqdm\n",
    "\n",
    "from utils.utils import predict, normalize, produce_vocab, proc_set, init_weights, accuracy\n",
    "from utils.model import LSTMTagger\n",
    "\n",
    "import argparse\n",
    "import os\n",
    "\n",
    "\n",
    "torch.manual_seed(1234)\n",
    "device = torch.device('cuda' if torch.cuda.is_available() else 'cpu')\n",
    "checkpoint = 'checkpoint'\n",
    "rawFile = r\"C:\\Users\\sherw\\OneDrive\\Desktop\\Thesis\\scribbling-speech\\nico-nocon\\raw_storytelling_tl.txt\"\n"
   ]
  },
  {
   "cell_type": "code",
   "execution_count": 14,
   "metadata": {},
   "outputs": [],
   "source": [
    "with open(checkpoint + '/settings.bin', 'rb') as f:\n",
    "    word_vocab, word2idx, idx2word, tags_vocab, tag2idx, idx2tag, msl, embedding_dim, hidden_dim, dropout, bidirectional, num_layers, recur_dropout = torch.load(f,map_location =torch.device('cpu'))\n",
    "\n",
    "    # Produce a blank model\n",
    "    model = LSTMTagger(word_vocab_sz=len(word_vocab), \n",
    "                        tag_vocab_sz=len(tags_vocab), \n",
    "                        embedding_dim=embedding_dim, \n",
    "                        hidden_dim=hidden_dim, \n",
    "                        dropout=dropout,\n",
    "                        num_layers=num_layers,\n",
    "                        recur_dropout=recur_dropout,\n",
    "                        bidirectional=bidirectional)\n",
    "\n",
    "    # Load checkpoints and put the model in eval mode\n",
    "    with open(checkpoint + '/model.bin', 'rb') as f:\n",
    "        model.load_state_dict(torch.load(f,map_location =torch.device('cpu')))\n",
    "    model = model.cpu()\n",
    "    model.eval()"
   ]
  },
  {
   "cell_type": "code",
   "execution_count": 52,
   "metadata": {},
   "outputs": [
    {
     "name": "stdout",
     "output_type": "stream",
     "text": [
      "Done psuedolabeling...\n"
     ]
    }
   ],
   "source": [
    "with open(rawFile, 'r', encoding='utf-8') as f:\n",
    "    textList = f.readlines()\n",
    "\n",
    "wordSet = open('data/tl_storytelling_wordset.txt','w',encoding='utf-8')\n",
    "tagSet = open('data/tl_storytelling_tagset.txt','w',encoding='utf-8')\n",
    "\n",
    "for text in textList:\n",
    "    preds = predict(text, word2idx, idx2tag, word_vocab, msl, model)\n",
    "    wordSet.write(text)\n",
    "    tagSet.write(' '.join(preds) + \"\\n\")\n",
    "\n",
    "print(\"Done psuedolabeling...\")\n",
    "wordSet.close()\n",
    "tagSet.close()"
   ]
  }
 ],
 "metadata": {
  "kernelspec": {
   "display_name": "Python 3.10.4 ('env_mgnntagset')",
   "language": "python",
   "name": "python3"
  },
  "language_info": {
   "codemirror_mode": {
    "name": "ipython",
    "version": 3
   },
   "file_extension": ".py",
   "mimetype": "text/x-python",
   "name": "python",
   "nbconvert_exporter": "python",
   "pygments_lexer": "ipython3",
   "version": "3.10.4"
  },
  "orig_nbformat": 4,
  "vscode": {
   "interpreter": {
    "hash": "218f7a967afb662943e57b2677ccb949839c78ab897dd43b6bac4d0b3635545d"
   }
  }
 },
 "nbformat": 4,
 "nbformat_minor": 2
}
