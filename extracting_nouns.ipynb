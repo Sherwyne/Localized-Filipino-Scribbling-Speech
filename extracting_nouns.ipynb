{
 "cells": [
  {
   "cell_type": "code",
   "execution_count": 33,
   "metadata": {},
   "outputs": [],
   "source": [
    "\n",
    "wordset = open(r'filipino-pos\\data\\tl_storytelling_wordset.txt', 'r',encoding='utf-8')\n",
    "tagset = open(r'filipino-pos\\data\\tl_storytelling_tagset.txt', 'r',encoding='utf-8')\n",
    "nounset = open(r'filipino-pos\\data\\tl_storytelling_nounset.txt', 'w',encoding='utf-8')\n",
    "\n",
    "wset = wordset\n",
    "tset = tagset\n",
    "for w,t in zip(wset,tset):\n",
    "    for x,y in zip(w.split(),t.split()):\n",
    "        if 'NN' in y:\n",
    "            nset = x + \": \" + y + \"\\n\"\n",
    "            nounset.write(nset)\n",
    "wordset.close()\n",
    "tagset.close()\n",
    "nounset.close()"
   ]
  }
 ],
 "metadata": {
  "kernelspec": {
   "display_name": "Python 3.10.4 ('env_mgnntagset')",
   "language": "python",
   "name": "python3"
  },
  "language_info": {
   "codemirror_mode": {
    "name": "ipython",
    "version": 3
   },
   "file_extension": ".py",
   "mimetype": "text/x-python",
   "name": "python",
   "nbconvert_exporter": "python",
   "pygments_lexer": "ipython3",
   "version": "3.10.4"
  },
  "orig_nbformat": 4,
  "vscode": {
   "interpreter": {
    "hash": "218f7a967afb662943e57b2677ccb949839c78ab897dd43b6bac4d0b3635545d"
   }
  }
 },
 "nbformat": 4,
 "nbformat_minor": 2
}
