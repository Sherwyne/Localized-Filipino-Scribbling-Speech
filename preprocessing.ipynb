{
 "cells": [
  {
   "cell_type": "markdown",
   "metadata": {},
   "source": []
  },
  {
   "cell_type": "code",
   "execution_count": 1,
   "metadata": {},
   "outputs": [],
   "source": [
    "import ebooklib\n",
    "from ebooklib import epub\n",
    "from bs4 import BeautifulSoup\n",
    "import os\n",
    "\n",
    "epub_files = os.listdir('dataset-filipino-storytelling')\n",
    "print(epub_files)"
   ]
  },
  {
   "cell_type": "code",
   "execution_count": 8,
   "metadata": {},
   "outputs": [],
   "source": [
    "file = open('raw_storytelling_tl.txt','a') \n",
    "\n",
    "for epub in epub_files:\n",
    "    book = epub.read_epub(epub)\n",
    "    pageCounter = 0\n",
    "    \n",
    "    for item in book.get_items():\n",
    "        if item.get_type() == ebooklib.ITEM_DOCUMENT:\n",
    "            if 'Page' in item.get_name():\n",
    "                soup = BeautifulSoup(item.get_body_content(), 'html.parser')\n",
    "                content = soup.find_all('p')[0]\n",
    "                content = str(content)\n",
    "                content = content.replace('<br/>', ' ')\n",
    "                content = BeautifulSoup(content)\n",
    "                pageCounter += 1\n",
    "                file.write(content.get_text() + '\\n')\n",
    "    title = (f\"TITLE: {book.get_metadata('DC', 'title')[0][0]} {pageCounter} pages\")\n",
    "    file.write(title)\n",
    "\n",
    "file.close()\n"
   ]
  },
  {
   "cell_type": "code",
   "execution_count": 10,
   "metadata": {},
   "outputs": [
    {
     "name": "stdout",
     "output_type": "stream",
     "text": [
      "['Alitaptap___Filipino-v12022.01.19T061650.epub', 'Ang_Aking_Malaking_Pamilya___Filipino-v12022.05.06T100928.epub', 'Ang_Aklat_para_kay_Puchku___Filipino-v12022.08.17T035136.epub', 'Ang_Aming_Pamilya___Filipino-v12021.12.05T082643.epub', 'Ang_Araw_na_Umulan_ng_mga_Isda___Filipino-v12022.01.20T061308.epub', 'Ang_Bagong_Sumbrero_ni_Bountong___Filipino-v12022.01.21T082939.epub', 'Ang_Basurang_Halimaw___Filipino-v12021.04.26T062729.epub', 'Ang_Batubato___Filipino-v12022.01.21T081958.epub', 'Ang_Bayang_Maaksaya_Sa_Tubig___Filipino-v12021.12.05T082233.epub', 'Ang_Bubungang_Hardin___Filipino-v12022.01.21T094001.epub', 'Ang_Bubuyog_na_may_Malaking_Mata___Filipino-v12021.12.05T081728.epub', 'Ang_Dakilang_Guro___Filipino-v12022.08.09T195938.epub', 'Ang_Dakilang_Mabalahibong_Khyaa___Filipino-v12021.12.05T081633.epub', 'Ang_Elepante_Sa_Aking_Tahanan___Filipino-v12021.12.05T081601.epub', 'Ang_Espesyal_na_Tambol___Filipino-v12021.12.05T081554.epub', 'Ang_Halimaw_at_ang_Nawawalang_Kukis___Filipino-v12021.12.05T081125.epub', 'Ang_Hiling_ni_Unni___Filipino-v12021.12.05T081100.epub', 'Ang_Hinlalaki_ni_Anaya___Filipino-v12021.12.05T081048.epub', 'Ang_Hugis_Tatsulok_na_Kahoy___Filipino-v12021.12.05T080721.epub', 'Ang_Kapangyarihan_ni_Chiu___Filipino-v12021.12.05T080612.epub', 'Ang_Kuwento_ng_Magkapatid_na_Trung_–_Bayani_ng_Vietnam___Filipino-v12021.04.26T114646.epub', 'Ang_Langgam_At_Ang_Paru-paro___Filipino-v12021.04.26T102554.epub', 'Ang_Langgam_at_Tinapay___Filipino-v12021.07.31T051439.epub', 'Ang_Layang-layang_at_ang_Bubuyog___Filipino-v12021.04.26T141435.epub', 'Ang_Lola_kong_Naghahagis_at_Sumasambot_ng_mga_Bagay___Filipino-v12021.07.29T150416.epub', 'Ang_Lumulutang_na_Halamanan___Filipino-v12021.12.05T080105.epub', 'Ang_Matalinong_Palaka___Filipino-v12021.07.31T063542.epub', 'Ang_Matamis_na_Mansanas___Filipino-v12021.12.05T075902.epub', 'Ang_Matapang_na_si_Tori___Filipino-v12021.07.30T004131.epub', 'Ang_mga_Mabituing_Hiling_ni_Palaka___Filipino-v12021.12.05T075520.epub', 'Ang_Munting_Matsing_at_ang_Isda___Filipino-v12022.08.16T021600.epub', 'Ang_Munting_Sisiw_at_Bibe___Filipino-v12021.07.31T070800 (1).epub', 'Ang_Munting_Sisiw_at_Bibe___Filipino-v12021.07.31T070800.epub', 'Ang_Nawawalang_Bibe___Filipino-v12021.12.05T075343.epub', 'Ang_Nawawalang_Bola___Filipino-v12021.07.31T074242.epub', 'Ang_Paglalakbay_nina_Tiwi_at_Boni___Filipino-v12022.08.09T194350.epub', 'Ang_Paglalakbay_sa_Hardin___Filipino-v12021.07.30T020703 (1).epub', 'Ang_Paglalakbay_sa_Hardin___Filipino-v12021.07.30T020703.epub', 'Ang_Pagsali_ni_Sutiha_sa_Paligsahan_ng_Tiyakad___Filipino-v12021.07.31T075328.epub', 'Ang_Pagsisipilyo_Ay_Hindi_Masaya!___Filipino-v12021.12.05T074450.epub', 'Ang_Pagtulong_kay__Tractor___Filipino-v12021.12.05T074426.epub', 'Ang_Plastik_Bag_Ni_Tok___Filipino-v12021.07.31T080427.epub', 'Ang_Regalong_Tsokolate___Filipino-v12021.12.05T074051.epub', 'Ang_Selosong_Ulap___Filipino-v12021.05.03T065045.epub', 'Ang_Ulap_ng_Basura___Filipino-v12021.07.31T082833 (1).epub', 'Ang_Ulap_ng_Basura___Filipino-v12021.07.31T082833.epub', 'Ano_ang_Iyong_Ginagawa____Filipino-v12022.03.23T094942.epub', 'Ano_ang_Nabangga_ni_Zizo____Filipino-v12021.12.06T233053 (1).epub', 'Ano_ang_Nabangga_ni_Zizo____Filipino-v12021.12.06T233053.epub', 'Ano_Kaya_Ako_Paglaki____Filipino-v12021.12.05T073526.epub', 'Ano_kaya_kung...____Filipino-v12021.12.06T234449 (1).epub', 'Ano_kaya_kung...____Filipino-v12021.12.06T234449.epub', 'Bakit_Umalis_Ang_Puting_Oso____Filipino-v12021.12.06T234731 (1).epub', 'Bakit_Umalis_Ang_Puting_Oso____Filipino-v12021.12.06T234731.epub', 'Bakit_Umiiyak_si_Ate_Risa____Filipino-v12022.08.09T184524.epub', 'Bakit_Walang_Lason_ang_Rat_Snake____Filipino-v12021.04.26T134517.epub', 'Bibili_ng_Aklat___Filipino-v12021.12.05T072924.epub', 'Bon_at_Butter___Filipino-v12021.12.06T235215.epub', 'COVIBOOK___Filipino-v12021.12.06T235545.epub', 'Emma___Filipino-v12021.12.05T072415.epub', 'Espesyal_na_Regalo_kay_Ling___Filipino-v12021.12.05T072318 (1).epub', 'Espesyal_na_Regalo_kay_Ling___Filipino-v12021.12.05T072318.epub', 'Ganito_Lumiwanag_ang_Aking_Mukha___Filipino-v12021.12.05T072253.epub', 'Ginoong_Spout___Filipino-v12021.12.06T235926.epub', 'Gintong_Sapatos___Filipino-v12021.04.30T071711.epub', 'Green_Star___Filipino-v12021.12.07T000137.epub', 'Gustong_Magbihis_ni_Nin___Filipino-v12021.12.07T000322.epub', 'Gustong_Magpakasal_ni_Botse-Botse___Filipino-v12021.12.07T000525.epub', 'Gusto_ni_Toutou_Makarating_sa_Lungsod___Filipino-v12021.04.30T154612.epub', \"Halina't_Lumipad___Filipino-v12021.12.07T000754 (1).epub\", \"Halina't_Lumipad___Filipino-v12021.12.07T000754.epub\", 'Higanteng_Megapon___Filipino-v12021.12.05T071242.epub', 'Hindi_Marunong_Sumayaw_si_Zakadam___Filipino-v12021.12.05T071206.epub', 'Hindi_Na_Ako_Natatakot!___Filipino-v12021.12.05T070700.epub', 'Hindi_Takot_si_Ira___Filipino-v12022.08.09T174216.epub', 'Hoy_Makaw!___Filipino-v12021.12.05T070153 (1).epub', 'Hoy_Makaw!___Filipino-v12021.12.05T070153.epub', 'Huwag_Gisingin_ang_Sanggol!___Filipino-v12021.12.05T070131.epub', 'Huwag_Patunugin_ang_Kampanilya!___Filipino-v12021.12.05T065818.epub', 'Inang_Bibe___Filipino-v12021.04.26T084212.epub', 'Isang_Araw_sa_Karnabal___Filipino-v12022.08.10T061245.epub', 'Isang_Luntiang_Araw___Filipino-v12021.12.05T065409.epub', 'Ito_si_Tiyo_Som___Filipino-v12021.04.26T133642.epub', 'Kaibigan_sa_Bakuran___Filipino-v12021.07.28T003117.epub', 'Kapag_Umulan___Filipino-v12022.07.15T182457.epub', 'Kaya_Nilang_Sumayaw___Filipino-v12021.04.26T084942.epub', 'Kaya_Rin_Iyan_ni_Duma!___Filipino-v12021.12.05T064728.epub', 'Kulay___Filipino-v12021.12.05T064516.epub', 'Kulot_o_Unat___Filipino-v12021.12.05T064220.epub', 'Kumusta_Ka____Filipino-v12021.12.05T063811.epub', 'Magbilang_Tayo_ng_Binti___Filipino-v12021.12.05T063750 (1).epub', 'Magbilang_Tayo_ng_Binti___Filipino-v12021.12.05T063750.epub', 'Mahiwagang_Ilog___Filipino-v12021.07.28T020340.epub', 'Malinis_na_Pusa___Filipino-v12022.02.24T213734.epub', 'May_katulad_ba_ako____Filipino-v12021.12.05T063245.epub', 'May_Torotot_sa_Niyogan___Filipino-v12022.01.14T010132.epub', 'Meow_Meow___Filipino-v12021.12.05T063110 (1).epub', 'Meow_Meow___Filipino-v12021.12.05T063110.epub', 'Mga_Ibon___Filipino.epub', 'Mga_Kulay_ng_Kalikasan!___Filipino-v12021.12.05T062603.epub', 'Nagbibilang_ng_mga_Hayop___Filipino-v12022.02.24T155731.epub', 'Nagpunta_Sila_sa_Bukid___Filipino-v12021.07.28T060200.epub', 'Nagpunta_si_Ardilya_sa_Paaralan___Filipino-v12021.12.05T062537.epub', 'Nagsalita_na_si_Tipaklong___Filipino-v12021.12.05T062417.epub', 'Nagtanim_Si_Sophy_ng_Biik___Filipino-v12022.05.05T020057.epub', 'Nakatatalon_ba_ang_Bibe____Filipino-v12021.12.05T062111 (1).epub', 'Nakatatalon_ba_ang_Bibe____Filipino-v12021.12.05T062111.epub', 'Nakuha_Rin_Kita!___Filipino-v12021.12.05T061918.epub', 'Nanay,_Pakitawag_ang_Ibon!___Filipino-v12021.12.05T061632.epub', 'Nangangarap_na_Maliit_na_Bato___Filipino-v12021.04.26T084832.epub', 'Napakagandang__Araw___Filipino-v12022.02.24T171831.epub', 'Napakalaki!_Napakaliit!___Filipino-v12021.12.05T061506.epub', 'Narinig_mo_ba____Filipino-v12021.12.05T061140.epub', 'Nasaan_si_Bonta____Filipino-v12021.12.05T060920 (1).epub', 'Nasaan_si_Bonta____Filipino-v12021.12.05T060920.epub', 'Nayon_ng_Rosas___Filipino-v12022.02.24T185618.epub', 'Oras_na_ng_Pamimili!___Filipino-v12021.12.05T060731.epub', 'Paano_kung____Filipino-v12021.12.05T060533.epub', 'Paano_Nakagawa_ng_Bahay_ang_Pagong___Filipino-v12021.12.05T060209.epub', 'Paggulong___Filipino-v12021.12.05T060145.epub', 'Paghahanap_sa_Araw___Filipino-v12021.12.05T055848.epub', 'Pakinggan_Ang_Aking_Katawan___Filipino-v12021.07.31T093437.epub', 'Palaruan___Filipino-v12022.08.24T094932.epub', 'Pamaba___Filipino-v12022.02.24T194011.epub', 'Panama_Canal_–_Daan_sa_Dagat_na_Gawa_ng_Tao___Filipino-v12021.04.26T062322.epub', 'Paruparo_at_Kalaw___Filipino-v12021.12.05T055409.epub', 'Prinsesa_ng_Siyudad_ng_Usok___Filipino-v12021.07.28T052607.epub', 'Rudi___Filipino-v12021.12.05T055115.epub', 'Saan_Kaya_Nagpupunta_ang_mga_Iniisip_Ko____Filipino-v12021.12.05T054728.epub', 'Saan_Sila_Nagpunta____Filipino-v12021.12.05T054509.epub', 'Sani_at_Suri___Filipino-v12021.12.05T054320.epub', 'Sa_Bayan_ng_Kamayanan_at_ang_Alamat_ng_mga_Sumasayaw_na_Kamay___Filipino-v12021.07.30T064429.epub', 'Sa_Ilalim_ng_Aking_Higaan___Filipino-v12021.12.05T054910.epub', 'Sino_ang_Batang_Iyon____Filipino-v12021.12.03T131928.epub', 'Sino_ang_Magiging_Titser_Ko_sa_Pasukan____Filipino-v12021.07.30T075851.epub', 'Sino_ang_Tutulong_sa_Akin____Filipino-v12021.07.30T080043.epub', 'Si_Aso_at_Si_Pusa_ay_Nagkabati___Filipino-v12021.12.05T054111.epub', 'Si_Ate_Bungi___Filipino-v12022.08.09T183424.epub', 'Si_Navy_at_si_Bora___Filipino-v12021.12.04T013534.epub', 'Si_Pogi,_Si_Pogs_At_Ang_Tora-tora___Filipino-v12022.01.14T001355.epub', 'Si_Pusa,_si_Aso_at_ang_Bola___Filipino-v12021.12.04T005059.epub', 'Si_Pusa,_si_Aso_at_ang_Ulan___Filipino-v12021.12.04T004849.epub', 'Si_Pusa_at_Si_Aso_at_ang_Kamote___Filipino-v12021.12.04T013034.epub', 'Si_Pusa_at_si_Aso_at_ang_Paruparo___Filipino-v12021.12.05T074402.epub', 'Si_Pusa_at_si_Aso_at_ang_Sumbrero___Filipino-v12021.12.04T011048.epub', 'Si_Pusa_at_Si_Aso__Nasaan_si_Pusa____Filipino-v12021.07.30T070112.epub', 'Si_Pusa_at_si_Aso__Nilalamig_si_Aso___Filipino-v12021.12.04T010741.epub', 'Si_Putu_at_si_Gutu___Filipino-v12021.07.30T073235.epub', 'Si_Tata_at_si_Toto___Filipino-v12021.12.04T004552 (1).epub', 'Si_Tata_at_si_Toto___Filipino-v12021.12.04T004552.epub', 'Si_Tumi_ay_Namasyal_sa_Parke___Filipino-v12021.12.04T004439.epub', 'Si_Tuna_at_ang_Pulang_Lumot___Filipino-v12021.12.04T004256.epub', 'Swan_Lake___Filipino-v12021.04.26T100853.epub', 'Taguan___Filipino-v12021.07.30T080340.epub', 'Takbo_Takbo_Takbo!___Filipino-v12021.04.26T085449.epub', 'Talon!_Talon!_Talon!___Filipino-v12022.01.31T070013.epub', \"Tayo'y_Maglaro___Filipino-v12021.07.30T081503.epub\", 'Tayo_ay_Magbilang!___Filipino-v12021.04.26T114847.epub', 'Tumingin_sa_Itaas___Filipino-v12021.07.30T081852 (1).epub', 'Tumingin_sa_Itaas___Filipino-v12021.07.30T081852.epub', 'Ulan,_Ulan___Filipino-v12021.12.03T121646.epub', \"_Ang_Isda_Ko!_____Hindi,_Akin_'Yan!____Filipino-v12021.12.05T080702.epub\", '_Thida_at_ang_Payat_na_Halimaw___Filipino-v12022.01.26T122152.epub']\n"
     ]
    }
   ],
   "source": []
  },
  {
   "cell_type": "code",
   "execution_count": null,
   "metadata": {},
   "outputs": [],
   "source": []
  }
 ],
 "metadata": {
  "kernelspec": {
   "display_name": "Python 3.10.4 ('env_mgnntagset')",
   "language": "python",
   "name": "python3"
  },
  "language_info": {
   "codemirror_mode": {
    "name": "ipython",
    "version": 3
   },
   "file_extension": ".py",
   "mimetype": "text/x-python",
   "name": "python",
   "nbconvert_exporter": "python",
   "pygments_lexer": "ipython3",
   "version": "3.10.4"
  },
  "orig_nbformat": 4,
  "vscode": {
   "interpreter": {
    "hash": "218f7a967afb662943e57b2677ccb949839c78ab897dd43b6bac4d0b3635545d"
   }
  }
 },
 "nbformat": 4,
 "nbformat_minor": 2
}
